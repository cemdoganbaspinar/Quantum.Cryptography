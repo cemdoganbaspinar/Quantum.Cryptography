{
 "cells": [
  {
   "cell_type": "markdown",
   "metadata": {},
   "source": [
    "<img src=\"https://raw.githubusercontent.com/Qiskit/qiskit-tutorials/master/images/qiskit-heading.png\" alt=\"Note: In order for images to show up in this jupyter notebook you need to select File => Trusted Notebook\" width=\"500 px\" align=\"left\">"
   ]
  },
  {
   "cell_type": "markdown",
   "metadata": {},
   "source": [
    "## _*Amplitude and Phase*_ \n",
    "\n",
    "The latest version of this notebook is available on https://github.com/QISKit/qiskit-tutorial.\n",
    "\n",
    "***\n",
    "### Contributors\n",
    "Jay Gambetta, Antonio Córcoles\n",
    "\n",
    "\n",
    "### Qiskit Package Versions"
   ]
  },
  {
   "cell_type": "code",
   "execution_count": 36,
   "metadata": {},
   "outputs": [
    {
     "name": "stdout",
     "output_type": "stream",
     "text": [
      "1.2.4\n"
     ]
    }
   ],
   "source": [
    "import qiskit\n",
    "print(qiskit.version.get_version_info())"
   ]
  },
  {
   "cell_type": "markdown",
   "metadata": {},
   "source": [
    "## Introduction\n",
    "In [superposition](superposition_and_entanglement.ipynb) we looked at the concept of computational states, and superpostion states. Here we continue the development of the understanding of a quantum state by introducing the concept of amplitude and phase. "
   ]
  },
  {
   "attachments": {
    "frr.png": {
     "image/png": "[encoded data removed]"
    }
   },
   "cell_type": "markdown",
   "metadata": {},
   "source": [
    "## A qubit \n",
    "\n",
    "The fundamental unit of quantum information is a qubit. It is a two-dimensional vector space of the complex numbers $\\mathbb{C}^2$. A qubit has some similarities to a classical bit, but is overall very different. Like a bit, a qubit can have two possible values - normally a 0 or a 1 which we denote $|0\\rangle$ and $|1\\rangle$. The difference is that whereas a bit must be either 0 or 1, a qubit can be 0, 1, or a superpostion of both. An arbitrary pure state of the qubit can be written as \n",
    "\n",
    "$$ |\\psi\\rangle = \\alpha |0\\rangle + \\beta |1\\rangle$$\n",
    "\n",
    "where $\\alpha$ and $\\beta$ are complex numbers. When a qubit in the state $|\\psi\\rangle$ is measured, the result is not deterministic, and one obtains the state $|0\\rangle$ with probability $|\\alpha|^2$ and the state $|1\\rangle$ with probability $|\\beta|^2$. This imposes the constrain that $|\\alpha|^2 + |\\beta|^2=1$ from conservation of probability. We can now define a pure state for a qubit as \n",
    "\n",
    "$$ |\\psi\\rangle = \\cos(\\theta/2)|0\\rangle + e^{i\\phi} \\sin(\\theta/2) |1\\rangle$$\n",
    "\n",
    "where $0\\leq \\phi < 2\\pi$ and $0 \\leq \\theta \\leq \\pi$. \n",
    "\n",
    "\n",
    "Quantum gates for a qubit are represented as a $2\\times2$ unitary matrix $U$. The action on the quantum gate is found by\n",
    "![frr.png](attachment:frr.png)\n",
    "\n",
    "$$ |\\psi'\\rangle = U |\\psi \\rangle $$ and the most general unitary must be able to take $|0\\rangle$ to the above state. \n",
    "This gives \n",
    "\n",
    "$$U = \\begin{pmatrix} \\cos(\\theta/2) & a \\\\ e^{i\\phi}\\sin(\\theta/2) & b \\end{pmatrix}$$ \n",
    "\n",
    "where $a$ and $b$ are complex numbers constrained such that $U^\\dagger U = I$ for all $0\\leq \\theta \\leq \\pi$ and $0\\leq\\phi < 2\\pi$. This gives 3 constraints and as such $a\\rightarrow -e^{i\\lambda} \\sin(\\theta/2)$ and $b \\rightarrow e^{i\\lambda + i \\phi} \\cos(\\theta/2)$ where $0\\leq \\lambda < 2\\pi$\n",
    "\n",
    "$$U = \\begin{pmatrix} \\cos(\\theta/2) & -e^{i\\lambda} \\sin(\\theta/2) \\\\ e^{i\\phi}\\sin(\\theta/2) & e^{i\\lambda + i \\phi} \\cos(\\theta/2) \\end{pmatrix}$$ \n",
    "\n",
    "This allows us to define a general single-qubit rotation as a function of the three parameters $\\theta$, $\\phi$ and $\\lambda$, $U(\\theta, \\phi, \\lambda)$\n",
    "\n",
    "It is generally useful to understand general single-qubit rotations in terms of a very special group of matrices called the Pauli matrices $X$, $Y$ and $Z$. We already saw in [superposition](superposition.ipynb) that the $X$ Pauli matrix could be defined as \n",
    "\n",
    "$$ X =\\begin{pmatrix} 0 & 1 \\\\ 1 & 0 \\end{pmatrix}$$\n",
    "\n",
    "Similarly, we can also define \n",
    "\n",
    "$$ Y =\\begin{pmatrix} 0 & -i \\\\ i & 0 \\end{pmatrix}$$\n",
    "\n",
    "and\n",
    "\n",
    "$$ Z =\\begin{pmatrix} 1 & 0 \\\\ 0 & -1 \\end{pmatrix}$$\n",
    "\n",
    "An important aspect of the Pauli matrices is that $X^2=Y^2=Z^2=I$. This allows us to simplify \n",
    "\n",
    "$$e^{i \\theta P}=  \\cos(\\theta)I + i\\sin(\\theta)P$$\n",
    "\n",
    "with $P$ a Pauli matrix. The Pauli matrices can be thus considered as the generators of rotations in the single-qubit space. We can then define the rotations\n",
    "\n",
    "$$r_x(\\theta) = e^{-i \\theta/2 X} = \\cos(\\theta/2)I - i \\sin(\\theta/2)X = \\begin{pmatrix} \\cos(\\theta/2) & -i\\sin(\\theta/2) \\\\ -i\\sin(\\theta/2) & \\cos(\\theta/2) \\end{pmatrix}$$\n",
    "\n",
    "$$r_y(\\theta) = e^{-i \\theta/2 Y} = \\cos(\\theta/2)I - i \\sin(\\theta/2)Y = \\begin{pmatrix} \\cos(\\theta/2) & -\\sin(\\theta/2) \\\\ \\sin(\\theta/2) & \\cos(\\theta/2) \\end{pmatrix}$$\n",
    "\n",
    "$$r_z(\\theta) = e^{-i \\theta/2 Z} = \\cos(\\theta/2)I - i \\sin(\\theta/2)Z = \\begin{pmatrix} e^{-i\\theta/2} & 0 \\\\ 0 & e^{i\\theta/2} \\end{pmatrix} := \\begin{pmatrix} 1 & 0 \\\\ 0 & e^{i\\theta} \\end{pmatrix}$$\n",
    "\n",
    "And now, in terms of the previously defined $U(\\theta, \\phi, \\lambda)$, we can define the parametrized rotations\n",
    "\n",
    "$$u_3(\\theta, \\phi, \\lambda) = U(\\theta, \\phi, \\lambda) = r_z(\\phi)r_y(\\theta)r_z(\\lambda) = \\begin{pmatrix} e^{-i(\\phi + \\lambda)/2}\\cos(\\theta/2) & -e^{-i(\\phi - \\lambda)/2} \\sin(\\theta/2) \\\\ e^{i(\\phi-\\lambda)/2}\\sin(\\theta/2) & e^{i(\\phi + \\lambda)/2} \\cos(\\theta/2) \\end{pmatrix}$$\n",
    "\n",
    "where we have multiplied the above defined $U(\\theta, \\phi, \\lambda)$ by a global phase $e^{-i(\\phi + \\lambda)/2}$\n",
    "\n",
    "Similarly, we can define the parametrized rotations\n",
    "\n",
    "$$u_2(\\phi, \\lambda) = U(\\pi/2, \\phi, \\lambda)$$\n",
    "\n",
    "and \n",
    "\n",
    "$$u_1(\\lambda) = U(0,0,\\lambda) := r_z(\\lambda)$$"
   ]
  },
  {
   "cell_type": "markdown",
   "metadata": {
    "collapsed": true
   },
   "source": [
    "## Phase gates\n",
    "\n",
    "Let's explore the action of some of the single-qubit gates we have just defined. We will start with the phase gate $u_1(\\lambda)$. We can see from the gate matrix that this gate does not modify the state $|0\\rangle$ and applies a phase of $\\lambda$ to the state $|1\\rangle$. In order for us to observe the effect of this gate on a qubit we need to make use of the Hadamard gate defined in [superposition](superposition.ipynb)."
   ]
  },
  {
   "cell_type": "code",
   "execution_count": 37,
   "metadata": {},
   "outputs": [],
   "source": [
    "# useful additional packages \n",
    "import matplotlib.pyplot as plt\n",
    "%matplotlib inline\n",
    "import numpy as np\n",
    "\n",
    "# importing Qiskit\n",
    "from qiskit import QuantumRegister, ClassicalRegister, QuantumCircuit, transpile\n",
    "import qiskit_aer"
   ]
  },
  {
   "cell_type": "markdown",
   "metadata": {},
   "source": [
    "Following a Hadamard gate, we will perform a $u_1(\\lambda)$ of varying angle $\\lambda \\in \\{ - \\pi, \\pi \\}$ and observe the qubit state oscillate between the states $|+\\rangle$ ($X$ eigenvalue +1) and $|-\\rangle$ ($X$ eigenvalue -1)."
   ]
  },
  {
   "cell_type": "code",
   "execution_count": 38,
   "metadata": {},
   "outputs": [
    {
     "data": {
      "image/png": "[encoded data removed]",
      "text/plain": [
       "<Figure size 327.252x144.48 with 1 Axes>"
      ]
     },
     "execution_count": 38,
     "metadata": {},
     "output_type": "execute_result"
    }
   ],
   "source": [
    "# Creating registers\n",
    "qr = QuantumRegister(1)\n",
    "cr = ClassicalRegister(1)\n",
    "\n",
    "circuits = []\n",
    "\n",
    "# Creating the circuits\n",
    "phase_vector = range(0,100)\n",
    "for phase_index in phase_vector:\n",
    "    phase_shift = phase_index-50\n",
    "    phase = 2*np.pi*phase_shift/50\n",
    "    circuit_name = \"phase_gate_%d\"%phase_index\n",
    "    qc_phase_gate = QuantumCircuit(qr, cr, name=circuit_name)\n",
    "    qc_phase_gate.h(qr)\n",
    "    qc_phase_gate.p(phase, qr)\n",
    "    qc_phase_gate.h(qr)\n",
    "    qc_phase_gate.measure(qr[0], cr[0])\n",
    "    circuits.append(qc_phase_gate)\n",
    "\n",
    "# Visualising one of the circuits as an example\n",
    "circuits[25].draw(output='mpl')"
   ]
  },
  {
   "cell_type": "code",
   "execution_count": 39,
   "metadata": {},
   "outputs": [],
   "source": [
    "# To run using qasm simulator\n",
    "backend = qiskit_aer.Aer.get_backend('qasm_simulator')\n",
    "\n",
    "# the number of shots in the experiment \n",
    "shots = 1024\n",
    "\n",
    "new_circuit = transpile(circuits, backend=backend)\n",
    "job = backend.run(new_circuit, shots=shots)"
   ]
  },
  {
   "cell_type": "code",
   "execution_count": 40,
   "metadata": {},
   "outputs": [],
   "source": [
    "\n",
    "probz = []\n",
    "phase_value = []\n",
    "for phase_index in phase_vector:\n",
    "    phase_shift = phase_index - 50\n",
    "    phase_value.append(2*phase_shift/50)\n",
    "    if '0' in job.result().get_counts(circuits[phase_index]):\n",
    "        probz.append(2*job.result().get_counts(circuits[phase_index]).get('0')/shots-1)\n",
    "    else:\n",
    "        probz.append(-1)"
   ]
  },
  {
   "cell_type": "code",
   "execution_count": 41,
   "metadata": {},
   "outputs": [
    {
     "data": {
      "image/png": "[encoded data removed]",
      "text/plain": [
       "<Figure size 432x288 with 1 Axes>"
      ]
     },
     "metadata": {
      "needs_background": "light"
     },
     "output_type": "display_data"
    }
   ],
   "source": [
    "plt.plot(phase_value, probz, 'b',0.25,1/np.sqrt(2),'ro',0.5,0,'ko',1,-1,'go',-0.25,1/np.sqrt(2),'rx',-0.5,0,'kx',-1,-1,'gx')\n",
    "plt.xlabel('Phase value (Pi)')\n",
    "plt.ylabel('Eigenvalue of X')\n",
    "\n",
    "plt.show()"
   ]
  },
  {
   "cell_type": "markdown",
   "metadata": {},
   "source": [
    "We can see the eigenstate of $X$ oscillating between +1 and -1. The six symbols in the plot correspond to special gates that we use as part of our universal set of gates. These are $T$ ($T^{\\dagger}$) for the red dot (cross), $S$ ($S^{\\dagger}$) for the black dot (cross) and $Z$ ($Z^{\\dagger}$) for the green dot (cross). Therefore, we can see that $T=u_1(\\pi/4)$, $S=u_1(\\pi/2)$ and $Z=u_1(\\pi)$, with their adjoints corresponding to the negative arguments.\n",
    "\n",
    "Now let's have a look at how the unitaries $u_3$ operate on a qubit state."
   ]
  },
  {
   "cell_type": "code",
   "execution_count": 42,
   "metadata": {},
   "outputs": [
    {
     "data": {
      "image/png": "[encoded data removed]",
      "text/plain": [
       "<Figure size 206.997x144.48 with 1 Axes>"
      ]
     },
     "execution_count": 42,
     "metadata": {},
     "output_type": "execute_result"
    }
   ],
   "source": [
    "# Creating registers\n",
    "qr = QuantumRegister(1)\n",
    "cr = ClassicalRegister(1)\n",
    "circuits = []\n",
    "\n",
    "# Creating the circuits\n",
    "phase_vector = range(0,100)\n",
    "for phase_index in phase_vector:\n",
    "    phase_shift = phase_index-50\n",
    "    phase = 2*np.pi*phase_shift/50\n",
    "    circuit_name = \"phase_gate_%d\"%phase_index\n",
    "    qc_phase_gate = QuantumCircuit(qr, cr, name=circuit_name)\n",
    "    qc_phase_gate.u(phase,0,np.pi, qr)\n",
    "    qc_phase_gate.measure(qr[0], cr[0])\n",
    "    circuits.append(qc_phase_gate)\n",
    "    \n",
    "# Visualising one of the circuits as an example\n",
    "circuits[75].draw(output='mpl')"
   ]
  },
  {
   "cell_type": "code",
   "execution_count": 43,
   "metadata": {},
   "outputs": [],
   "source": [
    "# To run using qasm simulator\n",
    "backend = qiskit_aer.Aer.get_backend('qasm_simulator')\n",
    "\n",
    "# the number of shots in the experiment \n",
    "shots = 1024\n",
    "\n",
    "new_circuit = transpile(circuits, backend=backend)\n",
    "job = backend.run(new_circuit, shots=shots)"
   ]
  },
  {
   "cell_type": "code",
   "execution_count": 44,
   "metadata": {},
   "outputs": [],
   "source": [
    "probz = []\n",
    "phase_value = []\n",
    "for phase_index in phase_vector:\n",
    "    phase_shift = phase_index - 50\n",
    "    phase_value.append(2*phase_shift/50)\n",
    "    if '0' in job.result().get_counts(circuits[phase_index]):\n",
    "        probz.append(2*job.result().get_counts(circuits[phase_index]).get('0')/shots-1)\n",
    "    else:\n",
    "        probz.append(-1)"
   ]
  },
  {
   "cell_type": "code",
   "execution_count": 45,
   "metadata": {},
   "outputs": [
    {
     "data": {
      "image/png": "[encoded data removed]",
      "text/plain": [
       "<Figure size 432x288 with 1 Axes>"
      ]
     },
     "metadata": {
      "needs_background": "light"
     },
     "output_type": "display_data"
    }
   ],
   "source": [
    "plt.plot(phase_value, probz, 'b',0.5,0,'ko',1,-1,'go',-0.5,0,'kx',-1,-1,'gx')\n",
    "plt.xlabel('Phase value (Pi)')\n",
    "plt.ylabel('Eigenvalue of Z')\n",
    "\n",
    "plt.show()"
   ]
  },
  {
   "cell_type": "markdown",
   "metadata": {},
   "source": [
    "In this case, we see that $u_3(\\pi/2,0,\\pi)$ corresponds to a $\\pi/2$ rotation around $X$ (black dot) and $u_3(\\pi,0,\\pi)$ corresponds to a bit-flip around $X$ (green dot). The rotations in the negative directions are shown as crosses. We could also have implemented these rotations around the $Y$ axis by simply using $u_3(\\lambda,\\pi/2,\\pi/2)$.\n",
    "\n",
    "As an exercise, prove that the Hadamard gate can be implemented as $H = u_2(0, \\pi)$."
   ]
  },
  {
   "cell_type": "markdown",
   "metadata": {
    "collapsed": true
   },
   "source": [
    "Now you know about single qubit states, it's time to move onto multi-qubit states. Please continue to [Entanglement](entanglement_introduction.ipynb) to explore further!"
   ]
  }
 ],
 "metadata": {
  "anaconda-cloud": {},
  "kernelspec": {
   "display_name": "base",
   "language": "python",
   "name": "python3"
  },
  "language_info": {
   "codemirror_mode": {
    "name": "ipython",
    "version": 3
   },
   "file_extension": ".py",
   "mimetype": "text/x-python",
   "name": "python",
   "nbconvert_exporter": "python",
   "pygments_lexer": "ipython3",
   "version": "3.9.7"
  }
 },
 "nbformat": 4,
 "nbformat_minor": 1
}
